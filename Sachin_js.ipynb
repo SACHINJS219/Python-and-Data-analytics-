{
  "nbformat": 4,
  "nbformat_minor": 0,
  "metadata": {
    "colab": {
      "name": "Sachin js.ipynb",
      "provenance": [],
      "collapsed_sections": []
    },
    "kernelspec": {
      "name": "python3",
      "display_name": "Python 3"
    },
    "language_info": {
      "name": "python"
    }
  },
  "cells": [
    {
      "cell_type": "code",
      "metadata": {
        "id": "vs_tERehnlBc"
      },
      "source": [
        "\n",
        "\n",
        "import pandas as pd\n",
        "\n",
        "import numpy as np\n",
        "\n",
        "df = pd. Dada faome ( pd. read_csv (\" /content/drain.com\n",
        "df. shape()\n",
        "dfishape\n",
        "\n",
        "df. is null . Sum()\n",
        "\n",
        "drop (el of is nulleisum (Edf. Small Sentr X df. is null U.Sum\n",
        "\n",
        "doop_col=X[X> (35/100* df.shape [0]]]\n",
        "\n",
        "doop-col\n",
        "\n",
        "doop-col-index\n",
        "\n",
        "df.drop (deop-cal index, axis=1, inplace=True! df.isnull (). Sum().\n",
        "\n",
        "df. fillna(df.mean(),\n",
        "\n",
        "df. isnall (). Sum (\n",
        "\n",
        "implace = true)\n",
        "\n",
        "af Embarked'] describe()\n",
        "\n",
        "df[Embarked']. fillna('s' inplace = True)\n",
        "\n",
        "df.is null ().Sum()\n",
        "df.Familysize 'J-dff Sibsp ] + df['parch] dfdrop ([Sibsp', 'pach), axis = 1, inplate=True)\n",
        "\n",
        "df.com\n",
        "\n",
        "dfilme] = 6 iPadPFamily Size ¹] [i]>o else\n",
        "\n",
        "1 for lin df. index]\n",
        "\n",
        "df.head C\n",
        "\n",
        "df.groupby (['Alone'] ) ['survived'].mean()\n",
        "\n",
        "af.['sex'] = Co if af[\"Sex 'Ii] == 'male' else 1\n",
        "\n",
        "for i in dfindex] df. graupby Sex\"])['surving\" ] + mean ()\n",
        "\n",
        "df. group by (['Embark']) ['surved'] mean()"
      ],
      "execution_count": null,
      "outputs": []
    }
  ]
}